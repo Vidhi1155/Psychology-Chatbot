{
 "cells": [
  {
   "cell_type": "markdown",
   "id": "e88c79bf-8d59-4624-8a4c-f47eda25b2a6",
   "metadata": {},
   "source": [
    "# **Creating a unified dataset**"
   ]
  },
  {
   "cell_type": "markdown",
   "id": "f463f1f6-7dc8-4deb-9871-d4e8d987905f",
   "metadata": {},
   "source": [
    "## **Import necessary Modules**"
   ]
  },
  {
   "cell_type": "code",
   "execution_count": 1,
   "id": "16457b20-1eef-4243-8f6f-2a49e55b203f",
   "metadata": {},
   "outputs": [],
   "source": [
    "# For working with tabular data (CSV/Excel) and time series analysis\n",
    "import pandas as pd  \n",
    "\n",
    "# Handling JSON config files and API responses  \n",
    "import json  \n",
    "\n",
    "# Text cleaning, pattern extraction, and string validation\n",
    "import re  "
   ]
  },
  {
   "cell_type": "code",
   "execution_count": 1,
   "id": "bb9df926-99c3-4f49-9209-c723d3d013e5",
   "metadata": {},
   "outputs": [
    {
     "name": "stdout",
     "output_type": "stream",
     "text": [
      "New CSV file saved as 'mental_health_conversation.csv' with selected columns!\n"
     ]
    }
   ],
   "source": [
    "# Load CSV file\n",
    "csv_path = \"mental_health_conversation2.csv\"  # Change to your actual file path\n",
    "df = pd.read_csv(csv_path)\n",
    "\n",
    "# Select only the required columns (e.g., \"question\" and \"answer\")\n",
    "selected_columns = df[[\"questionTitle\", \"answerText\"]]  # Modify column names if needed\n",
    "\n",
    "# Save the selected columns into a new CSV file\n",
    "new_csv_path = \"mental_health_conversation.csv\"\n",
    "selected_columns.to_csv(new_csv_path, index=False)\n",
    "\n",
    "print(f\"New CSV file saved as '{new_csv_path}' with selected columns!\")\n"
   ]
  },
  {
   "cell_type": "code",
   "execution_count": 2,
   "id": "de386107-f142-420c-ad24-335e166d96dc",
   "metadata": {},
   "outputs": [
    {
     "name": "stdout",
     "output_type": "stream",
     "text": [
      "New CSV file saved as 'Mental_Health_FAQs.csv' with selected columns!\n"
     ]
    }
   ],
   "source": [
    "# Load CSV file\n",
    "csv_path = \"Mental_Health_FAQ.csv\"  # Change to your actual file path\n",
    "df = pd.read_csv(csv_path)\n",
    "\n",
    "# Select only the required columns (e.g., \"question\" and \"answer\")\n",
    "selected_columns = df[[\"Questions\", \"Answers\"]]  # Modify column names if needed\n",
    "\n",
    "# Save the selected columns into a new CSV file\n",
    "new_csv_path = \"Mental_Health_FAQs.csv\"\n",
    "selected_columns.to_csv(new_csv_path, index=False)\n",
    "\n",
    "print(f\"New CSV file saved as '{new_csv_path}' with selected columns!\")\n"
   ]
  },
  {
   "cell_type": "code",
   "execution_count": 3,
   "id": "2e07fa1e-2970-4445-8d44-fd4f0170472d",
   "metadata": {},
   "outputs": [
    {
     "name": "stdout",
     "output_type": "stream",
     "text": [
      "Column names updated successfully in 'train.csv'!\n"
     ]
    }
   ],
   "source": [
    "# Load the CSV file\n",
    "csv_path = \"train.csv\"  # Replace with your actual file path\n",
    "df = pd.read_csv(csv_path)\n",
    "\n",
    "# Rename columns (Modify names as needed)\n",
    "df = df.rename(columns={\"Context\": \"Questions\", \"Response\": \"Answers\"})\n",
    "\n",
    "# Overwrite the same CSV file with updated column names\n",
    "df.to_csv(csv_path, index=False)\n",
    "\n",
    "print(f\"Column names updated successfully in '{csv_path}'!\")\n"
   ]
  },
  {
   "cell_type": "code",
   "execution_count": 4,
   "id": "30463496-5a1c-45e7-a12e-7510490b5e8a",
   "metadata": {},
   "outputs": [
    {
     "name": "stdout",
     "output_type": "stream",
     "text": [
      "Column names updated successfully in 'mental_health_conversation.csv'!\n"
     ]
    }
   ],
   "source": [
    "# Load the CSV file\n",
    "csv_path = \"mental_health_conversation.csv\"  # Replace with your actual file path\n",
    "df = pd.read_csv(csv_path)\n",
    "\n",
    "# Rename columns (Modify names as needed)\n",
    "df = df.rename(columns={\"questionTitle\": \"Questions\", \"answerText\": \"Answers\"})\n",
    "\n",
    "# Overwrite the same CSV file with updated column names\n",
    "df.to_csv(csv_path, index=False)\n",
    "\n",
    "print(f\"Column names updated successfully in '{csv_path}'!\")\n"
   ]
  },
  {
   "cell_type": "markdown",
   "id": "d8e895d7-a800-4c07-b36f-49f48a5f6ac6",
   "metadata": {},
   "source": [
    "## **Storing all the data into an unified data**"
   ]
  },
  {
   "cell_type": "code",
   "execution_count": 1,
   "id": "a647a367-ec15-4417-b54f-ae9bcba484f0",
   "metadata": {},
   "outputs": [
    {
     "name": "stdout",
     "output_type": "stream",
     "text": [
      "Unified dataset created successfully!\n"
     ]
    }
   ],
   "source": [
    "# Function to process text file\n",
    "def process_text_file(text):\n",
    "    entries = []\n",
    "    blocks = re.split(r\"---Title---\", text)\n",
    "    \n",
    "    for block in blocks[1:]:  # Skip first split as it is before first ---Title---\n",
    "        parts = re.split(r\"---Data---\", block)\n",
    "        if len(parts) == 2:\n",
    "            question = parts[0].strip()\n",
    "            answer = parts[1].strip()\n",
    "            entries.append({\"Title\": question, \"Content\": answer})\n",
    "    \n",
    "    return entries\n",
    "\n",
    "# Function to process CSV file\n",
    "def process_csv_file(csv_path):\n",
    "    df = pd.read_csv(csv_path)\n",
    "    return df.rename(columns={\"Questions\": \"Title\", \"Answers\": \"Content\"}).to_dict(orient=\"records\")\n",
    "\n",
    "# Load and process text data\n",
    "with open(\"NCERT_class11.txt\", \"r\", encoding=\"utf-8\") as file1:\n",
    "    text_data1 = file1.read()\n",
    "text_entries1 = process_text_file(text_data1)\n",
    "\n",
    "with open(\"NCERT_class12.txt\", \"r\", encoding=\"utf-8\") as file2:\n",
    "    text_data2 = file2.read()\n",
    "text_entries2 = process_text_file(text_data2)\n",
    "\n",
    "with open(\"NOBA_book1_content.txt\", \"r\", encoding=\"utf-8\") as file3:\n",
    "    text_data3 = file3.read()\n",
    "text_entries3 = process_text_file(text_data3)\n",
    "\n",
    "with open(\"psychology_today_articles.txt\", \"r\", encoding=\"utf-8\") as file4:\n",
    "    text_data4 = file4.read()\n",
    "text_entries4 = process_text_file(text_data4)\n",
    "\n",
    "# Load and process CSV data\n",
    "csv_entries1 = process_csv_file(\"mental_health_conversation.csv\")\n",
    "\n",
    "csv_entries2 = process_csv_file(\"Mental_Health_FAQs.csv\")\n",
    "\n",
    "csv_entries3 = process_csv_file(\"train.csv\")\n",
    "\n",
    "# Merge both datasets\n",
    "unified_data = text_entries1 + text_entries2 + text_entries3 + text_entries4 + csv_entries1 + csv_entries2 + csv_entries3\n",
    "\n",
    "# Save as JSON\n",
    "with open(\"unified_dataset.json\", \"w\", encoding=\"utf-8\") as json_file:\n",
    "    json.dump(unified_data, json_file, ensure_ascii=False, indent=4)\n",
    "\n",
    "print(\"Unified dataset created successfully!\")"
   ]
  },
  {
   "cell_type": "code",
   "execution_count": 6,
   "id": "7def99da-ec68-4771-8570-e9232ba023af",
   "metadata": {},
   "outputs": [
    {
     "name": "stdout",
     "output_type": "stream",
     "text": [
      "Total items: 5700\n",
      "\n",
      "First 10 items:\n",
      "\n",
      "Item 1:\n",
      "{'Title': 'WHAT IS PSYCHOLOGY?', 'Content': 'Any knowledge discipline is hard to define. Firstly, because it evolves continuously. Secondly, because the range of phenomena it studies cannot be captured by any one definition. This is even more true of psychology. Long time back, students like yourself were told that the term psychology is derived from two Greek words psyche meaning soul and logos meaning science or study of a subject. Thus, psychology was a study of the soul or mind. But since then it has moved away considerably from this focus and established itself as a scientific discipline which deals with processes underlying human experience and behaviour. The range of phenomena it studies, some of which we mentioned above, are spread over several levels, viz. individual, dyadic (two person) group, and organisational. They also have biological as well as social bases. Naturally, therefore, the methods required to study them also vary greatly depending on the phenomenon one wants to study. A discipline is defined both in terms of what it studies and how it studies. In fact, more in terms of how or method/s it uses. Keeping this in view, psychology is defined formally as a science which studies mental processes, experiences and behaviour in different contexts. In doing so, it uses methods of biological and social sciences to obtain data systematically. It makes sense of these data so that they can be organised as knowledge. Let us try to understand the three terms used in the definition, namely, mental processes, experience, and behaviour.'}\n",
      "\n",
      "Item 2:\n",
      "{'Title': 'What is mental process?', 'Content': 'When we say experiences are internal to the experiencing person, then we refer to states of consciousness or awareness or mental processes. We use our mental processes when we think or try to solve a problem, to know or remember something. One level at which these mental processes are reflected is the brain activity. As we think or solve a mathematical problem, our brain activities can be observed using different techniques of brain imaging. However, we cannot say that brain activities and mental processes are the same, although they are interdependent. Mental activities and neural activities are mutually overlapping processes but, they are not identical. Unlike the brain, the mind does not have a physical structure or has a location. Mind emerges and evolves as our interactions and experiences in this world get dynamically organised in the form of a system which is responsible for the occurrence of various mental processes. Brain activities provide important clues as to how our mind functions. But the consciousness of our own experiences and mental processes are much more than the neural or brain activities. Even when we are asleep some mental activities go on. We dream, and receive some information such as a knock on the door while we are asleep. Some psychologists have shown that we also learn and remember in our sleep. Mental processes, such as remembering, learning, knowing, perceiving, feeling are of interest to psychologists. They study these processes to try to understand how the mind works and to help us improve the uses and applications of these mental capacities.'}\n",
      "\n",
      "Item 3:\n",
      "{'Title': 'What are experiences?', 'Content': 'Psychologists also study experiences of people. Experiences are subjective in nature. We cannot directly observe or know someone else’s experience. Only the experiencing person can be aware or be conscious of her or his experiences. Thus, experiences are embedded in our awareness or consciousness. Psychologists have focused on experiences of pain being experienced by terminally ill patients or of psychological pain felt in bereavement, besides experiences which lead to positive feelings, such as in romantic encounters. There are some esoteric experiences also which attract the attention of psychologists, such as when a Yogi meditates to enter a different level of consciousness and creates a new kind of experience or when a drug addict takes a particular kind of drug to get a high, even though such drugs are extremely harmful. Experiences are influenced by internal and the external conditions of the experiencer. If you are travelling in a crowded bus during a hot summer day, you may not experience the usual discomfort if you are going for a picnic with some close friends. Thus, the nature of experience can only be understood by analysing a complex set of internal and external conditions.'}\n",
      "\n",
      "Item 4:\n",
      "{'Title': 'What is behaviour?', 'Content': 'Behaviours are responses or reactions we make or activities we engage in. When something is hurled at you, your eyes blink in a simple reflex action. You are taking an examination and can feel your heart pounding. You decide to go for a particular movie with a friend. Behaviours may be simple or complex, short or enduring. Some behaviours are overt. They can be outwardly seen or sensed by an observer. Some are internal or covert. When you are in a difficult situation while playing a game of chess you almost feel your hand muscles twitching, trying to experiment with a move. All behaviours, covert or overt, are associated with or triggered by some stimulus in the environment or changes that happen internally.'}\n",
      "\n",
      "Item 5:\n",
      "{'Title': 'Psychology as a Discipline', 'Content': 'As we have discussed above, psychology studies behaviour, experience and mental processes. It seeks to understand and explain how the mind works and how different mental processes result in different behaviours. When we observe others as lay or common persons, our own points of view or our ways of understanding the world influence our interpretations of their behaviours and experiences. Psychologists try to minimise such biases in their explanations of behaviour and experience in various ways. Some do so by seeking to make their analysis scientific and objective. Others seek to explain behaviour from the point of view of the experiencing persons because they think that subjectivity is a necessary aspect of human experience. In the Indian tradition, self-reflection and analysis of our conscious experiences, is held to be a major source of psychological understanding. Many western psychologists have also begun to emphasise the role of self-reflection and self-knowledge in understanding human behaviour and experience. Regardless of the differences in the way psychologists go about the study of behaviour, mental processes and experiences, they seek to understand and explain them in a systematic and verifiable manner.\\nPsychology, though it is a very old knowledge discipline, is a young science, if one were to take the year of the founding of the first laboratory of psychology in 1879 in Leipzig. However, what kind of science is psychology, still remains a matter of debate, particularly because of the new interfaces of it that have emerged in recent times. Psychology is generally categorised as a social science. But it should not come to you as a surprise that, not only in other countries, but in India also, it is also a subject of study offered in the faculty of science, both at the undergraduate and post-graduate levels. Many students go on to earn a B.Sc. or M.Sc. degree in universities. In fact, two of the most sought after emerging disciplines which continuously borrow from psychology are Neuroscience and Computer Science. Some of us would be aware of the fast developing brain imaging techniques like fMRI, EEG, etc. which make it possible to study brain processes in real time, i.e. when they are actually taking place. Similarly, in IT areas, both human-computer interaction and artificial intelligence cannot possibly grow without psychological knowledge in cognitive processes.\\nThus, psychology as a discipline today has two parallel streams. One which makes use of the method in physical and biological sciences and the other which makes use of the method of social and cultural sciences in studying various psychological and social phenomena. These streams sometimes converge only to drift apart and go their separate ways. In the first case, psychology considers itself as a discipline, which focuses largely on biological principles to explain human behaviour. It assumes that all behavioural phenomena have causes which can be discovered if we can collect data systematically under controlled conditions. Here the aim of the researcher is to know the cause and effect relationship so that a prediction of the behavioural phenomenon can be made and behaviour can be controlled if need be. On the other hand, psychology as a social science focuses on how behavioural phenomena can be explained in terms of the interaction that takes place between the person and the sociocultural context of which s/he is a part.'}\n",
      "\n",
      "Item 6:\n",
      "{'Title': 'Psychology as a Natural Science', 'Content': 'It has been mentioned earlier that psychology has its roots in philosophy. However, modern psychology has developed because of the application of the scientific method to study psychological phenomenon. Science places a great deal of emphasis on objectivity which can be obtained if there is consensus on the definition of a concept and how it can be Psychology was influenced by Descartes and later on by the developments in physics has grown by following what is called a hypothetico-deductive model. The model suggests that scientific advancement can take place if you have a theory to explain a phenomenon. For example, physicists have what is called a Big-bang theory to explain how the universe came to be formed. Theory is nothing else but a set of statements about how a certain complex phenomenon can be explained with the help of propositions which are interrelated. Based on a theory, scientists deduce or propose a hypothesis, that offers a tentative explanation of how a certain phenomenon takes place. The hypothesis then is tested and proved true or false based on empirical data that one has gathered. The theory is revised if data gathered point in a different direction than the one suggested by the hypothesis. Using the above approach psychologists have developed theories of learning, memory, attention, perception, motivation and emotion, etc. and have made significant progress. Till date, most of the research in psychology follows this approach. Apart from this, psychologists have also been considerably influenced by the evolutionary approach which is dominant in biological sciences. This approach has also been used to explain diverse kinds of psychological phenomenon such as attachment and aggression to mention just a few.'}\n",
      "\n",
      "Item 7:\n",
      "{'Title': 'Psychology as a Social Science', 'Content': 'We mentioned above that psychology is recognised more as a social science because it studies the behaviour of human beings in their socio-cultural contexts. Humans are not only influenced by their socio-cultural contexts, they also create them. Psychology as a social science discipline focuses on humans as social beings. Consider the following story of Ranjita and Shabnam. Ranjita and Shabnam were in the same class. Although, they were in the same class, they were just acquainted with each other and their lives were quite different. Ranjita came from a farmer’s family. Her grandparents, parents and elder brother worked on their farm. They lived together in their house in the village. Ranjita was a good athlete and was the best long-distance runner in the school. She loved meeting people and making friends. Unlike her, Shabnam lived with her mother in the same village. Her father worked in an office in a town nearby and came home during holidays. Shabnam was a good artist and loved staying home and taking care of her younger brother. She was shy and avoided meeting people. Last year there was very heavy rain and the river nearby overflowed into the village. Many houses in the low-lying areas were flooded. The villagers got together and organised help and gave shelter to people in distress. Shabnam’s house was also flooded and she came to live in Ranjita’s house with her mother and brother. Ranjita was happy helping the family and making them feel comfortable in her house. When the flood water receded, Ranjita’s mother and grandmother helped Shabnam’s mother to set up their house. The two families became very close. Ranjita and Shabnam also became very good friends. In this case of Ranjita and Shabnam, both are very different persons. They grew up in different families under complex social and cultural conditions. You can see some regularity in the relationship of their nature, experience and mental processes with their social and physical environment. But at the same time, there are variations in their behaviours and experiences which would be difficult to predict using the known psychological principles. One can understand why and how individuals in communities become quite helpful and self-sacrificing in crisis as was the case with the people in the village of Ranjita and Shabnam. But, even in that case, not every villager was equally helpful and also under similar circumstances not every community is so forthcoming; in fact, sometimes, the opposite is true – people become antisocial under similar circumstances indulging in looting and exploitation when some crisis occurs. This shows that psychology deals with human behaviour and experience in the context of their society and culture. Thus, psychology is a social science with focus on the individuals and communities in relation to their sociocultural and physical environment.'}\n",
      "\n",
      "Item 8:\n",
      "{'Title': 'Understanding mind and behaviour', 'Content': 'You will recall that psychology was once defined as a science of the mind. For many decades, the mind remained a taboo in psychology because it could not be defined in concrete behavioural terms or its location could not be indicated. If the term “mind” has returned to psychology, we should thank neuroscientists like Sperry and physicists like Penrose, who have given it the respect which it deserved and now has. There are scientists in various disciplines including psychology, who think that a unified theory of the mind is a possibility, although it still is far away. What is mind? Is it the same as brain? It is true that mind cannot exist without brain, but mind is a separate entity. This can be appreciated on account of several interesting cases that have been documented. Some patients whose occipital lobes, which are responsible for vision, were surgically removed have been found to be responding correctly to location and configuration of visual cues. Similarly, an amateur athlete lost his arm in a motorcycle accident but continued to feel an “arm” and also continued to feel its movements. When offered coffee, his “phantom arm” reached out to the coffee cup and when someone pulled it away, he protested. There are other similar cases documented by neuroscientists. A young man who suffered brain injury in an accident, after he returned home from the hospital, claimed that his parents had been replaced by their “duplicates”. They were imposters. In each of these cases, the person had suffered from damage of some part of the brain but his “mind” had remained intact. It was earlier believed by scientists that there is no relationship between the mind and the body and that they were parallel to each other. Recent studies in affective neuroscience have clearly shown that there is a relationship between mind and behaviour. It has been shown that using positive visualisation techniques and feeling positive emotions, one can bring about significant changes in bodily processes. Ornish has shown this in a number of studies with his patients. In these studies a person with blocked arteries was made to visualise that blood was flowing through her/his blocked arteries. After practicing this over a period of time, significant relief was obtained by these patients as the degree of blockage became significantly less. Use of mental imagery, i.e. images generated by a person in her/his mind, have been used to cure various kinds of phobias (irrational fears of objects and situations). A new discipline called Psychoneuroimmunology has emerged which emphasises the role played by the mind in strengthening the immune system.'}\n",
      "\n",
      "Item 9:\n",
      "{'Title': 'Popular notions about the discipline of psychology', 'Content': \"The text explains that in everyday life, people often act like psychologists by interpreting others' behavior and forming personal theories about human actions. However, these common-sense explanations are usually based on hindsight and may not hold true under scientific investigation. Psychology, as a science, seeks to identify patterns of behavior that can be predicted rather than explained after they occur. An example of scientific research challenging common beliefs is Dweck’s (1975) study on children who give up easily. Contrary to the belief that giving children easy tasks boosts confidence, Dweck found that children who faced a mix of easy and difficult problems were more resilient when encountering failure. The text also highlights other misconceptions, such as the belief that men are more intelligent than women or that performing before a large audience reduces performance—both of which have been disproven by psychological studies. The text emphasizes that psychology relies on systematic investigation and empirical evidence, distinguishing it from practices like astrology or palm reading. Readers are encouraged to question common-sense beliefs and adopt a more scientific approach to understanding human behavior.\"}\n",
      "\n",
      "Item 10:\n",
      "{'Title': 'Origins and Early Development of Modern Psychology', 'Content': 'Modern psychology, although influenced significantly by Western developments, has its roots in ancient philosophy. Philosophers have long been concerned with questions related to human behavior and mental processes. The formal beginning of modern psychology is traced back to 1879, when Wilhelm Wundt established the first experimental psychology laboratory in Leipzig, Germany. This event marked the transition of psychology from a branch of philosophy to an independent scientific discipline. Wundt’s work laid the foundation for experimental methods in studying the human mind, emphasizing the importance of systematic observation and controlled experimentation.'}\n"
     ]
    }
   ],
   "source": [
    "# Load the JSON data (assumed to be a list)\n",
    "with open(\"unified_dataset.json\", \"r\", encoding=\"utf-8\") as file:\n",
    "    data = json.load(file)\n",
    "\n",
    "# Verify it's a list and get first 10 items\n",
    "if isinstance(data, list):\n",
    "    print(f\"Total items: {len(data)}\")\n",
    "    print(\"\\nFirst 10 items:\")\n",
    "    for i, item in enumerate(data[:10], 1):\n",
    "        print(f\"\\nItem {i}:\")\n",
    "        print(item)\n",
    "else:\n",
    "    print(\"Warning: JSON data is not a list. Showing full content:\")\n",
    "    print(data)"
   ]
  },
  {
   "cell_type": "code",
   "execution_count": null,
   "id": "2153e1c8-5a6e-4758-a3f6-90974350952f",
   "metadata": {},
   "outputs": [],
   "source": []
  }
 ],
 "metadata": {
  "kernelspec": {
   "display_name": "Python 3 (ipykernel)",
   "language": "python",
   "name": "python3"
  },
  "language_info": {
   "codemirror_mode": {
    "name": "ipython",
    "version": 3
   },
   "file_extension": ".py",
   "mimetype": "text/x-python",
   "name": "python",
   "nbconvert_exporter": "python",
   "pygments_lexer": "ipython3",
   "version": "3.12.4"
  }
 },
 "nbformat": 4,
 "nbformat_minor": 5
}
